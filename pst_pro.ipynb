{
 "cells": [
  {
   "cell_type": "code",
   "execution_count": 2,
   "metadata": {},
   "outputs": [],
   "source": [
    "import os\n",
    "import cv2\n",
    "import matplotlib.pyplot as plt\n",
    "import numpy as np\n",
    "from glob import glob"
   ]
  },
  {
   "cell_type": "code",
   "execution_count": 77,
   "metadata": {},
   "outputs": [],
   "source": [
    "\n",
    "gt_list = sorted(glob('./new_dataset/mask/*'))\n",
    "img_list = sorted(glob('./new_dataset/spine/*'))"
   ]
  },
  {
   "cell_type": "code",
   "execution_count": null,
   "metadata": {},
   "outputs": [],
   "source": [
    "point=[]\n",
    "point_list=[]\n",
    "j=0\n",
    "for gt,img in zip(gt_list,img_list):\n",
    "    gt_name = gt.split('/')[-1].split('.')[-2]\n",
    "    print(gt_name)\n",
    "    img_name = img.split('/')[-1].split('.')[-2]\n",
    "    print(img_name)\n",
    "    if gt_name ==img_name:\n",
    "        mask = cv2.imread(gt)\n",
    "        image = cv2.imread(img,0)\n",
    "        image_cp= image.copy()\n",
    "        mask_cp = mask.copy()\n",
    "        gray = cv2.cvtColor(mask, cv2.COLOR_RGB2GRAY)\n",
    "        ret, binary = cv2.threshold(gray, 150,255,cv2.THRESH_BINARY)\n",
    "\n",
    "        contours,_ = cv2.findContours(binary, cv2.RETR_CCOMP,cv2.CHAIN_APPROX_NONE)\n",
    "        point=[]\n",
    "        for i in contours:\n",
    "            try:\n",
    "                M = cv2.moments(i)\n",
    "                cX = int(M['m10']/M['m00'])\n",
    "                cY = int(M['m01']/M['m00'])\n",
    "\n",
    "    #             print(cX,cY)\n",
    "    #             cv2.circle(mask_cp,(cX,cY),3,(255,0,0),-1)\n",
    "\n",
    "                point.append((cX,cY))\n",
    "            except:\n",
    "                print('error')\n",
    "        print(point)\n",
    "    #     point_list.append(point)\n",
    "\n",
    "        for pn,poi in enumerate(point):\n",
    "\n",
    "\n",
    "                center_x = poi[0]\n",
    "\n",
    "                center_y = poi[1]\n",
    "\n",
    "                # if point[7] ==\"true\" or point[8] == \"true\":\n",
    "                # \tcontinue\n",
    "\n",
    "                if pn == 0:\n",
    "                    print(point[pn+1][1])\n",
    "                    y_top = int(abs(point[pn+1][1] - center_y) / 2)+20\n",
    "                    y_bottom = int(abs(point[pn+1][1] - center_y) / 2)+20\n",
    "\n",
    "                elif pn == len(point)-1:\n",
    "                    y_top = int(abs(point[pn-1][1] - center_y) / 2)+20\n",
    "                    y_bottom = int(abs(point[pn-1][1] - center_y) / 2)+20\n",
    "\n",
    "                else:\n",
    "                    y_top = int(abs(point[pn-1][1] - center_y) / 2)+20\n",
    "                    y_bottom = int(abs(point[pn+1][1] - center_y) / 2)+20\n",
    "\n",
    "                if center_x-100 <0:\n",
    "                    x_left = center_x\n",
    "                    continue\n",
    "                else:\n",
    "                    x_left = 100\n",
    "\n",
    "                if center_x+100 >= mask_cp.shape[1]:\n",
    "                    x_right = mask_cp.shape[1] - center_x -1\n",
    "                    continue\n",
    "                else:\n",
    "                    x_right = 100\n",
    "\n",
    "                if center_y-y_bottom <0:\n",
    "                    y_bottom = center_y\n",
    "                    continue\n",
    "\n",
    "                if center_y+y_top >= mask_cp.shape[0]:\n",
    "                    y_top = mask_cp.shape[0] - center_y -1\n",
    "                    continue\n",
    "\n",
    "                crop_msk = mask_cp[center_y-y_bottom:center_y+y_top,center_x-x_left:center_x+x_right]\n",
    "                crop_img = image_cp[center_y-y_bottom:center_y+y_top,center_x-x_left:center_x+x_right]\n",
    "                print(crop_msk.shape[0])\n",
    "                if crop_msk.shape[0]>80 and crop_img.shape[0]>80:\n",
    "                    cv2.imwrite('./Crop_dataset/mask/'+str(j)+'.png',crop_msk)\n",
    "                    cv2.imwrite('./Crop_dataset/spine/'+str(j)+'.jpg',crop_img)\n",
    "                    \n",
    "                    plt.imshow(crop_img,'gray')\n",
    "                    plt.imshow(crop_msk,alpha=0.2,cmap='gray')\n",
    "                    plt.show()\n",
    "                    \n",
    "                j+=1\n",
    "#         except:\n",
    "#             print('error')"
   ]
  },
  {
   "cell_type": "code",
   "execution_count": 7,
   "metadata": {},
   "outputs": [
    {
     "name": "stdout",
     "output_type": "stream",
     "text": [
      "(557, 946)\n"
     ]
    }
   ],
   "source": [
    "print(point_list[0][0])"
   ]
  },
  {
   "cell_type": "code",
   "execution_count": 20,
   "metadata": {},
   "outputs": [
    {
     "ename": "SyntaxError",
     "evalue": "invalid syntax (<ipython-input-20-5ddbc89a42a7>, line 42)",
     "output_type": "error",
     "traceback": [
      "\u001b[0;36m  File \u001b[0;32m\"<ipython-input-20-5ddbc89a42a7>\"\u001b[0;36m, line \u001b[0;32m42\u001b[0m\n\u001b[0;31m    return crop_img\u001b[0m\n\u001b[0m    ^\u001b[0m\n\u001b[0;31mSyntaxError\u001b[0m\u001b[0;31m:\u001b[0m invalid syntax\n"
     ]
    }
   ],
   "source": [
    "def cropping(point_list,image):\n",
    "    for pn,point in enumerate(point_list):\n",
    "        try:\n",
    "            center_x = int(point[0])\n",
    "            center_y = int(point[1])\n",
    "            # if point[7] ==\"true\" or point[8] == \"true\":\n",
    "            # \tcontinue\n",
    "\n",
    "            if pn == 0:\n",
    "                y_top = int(abs(int(point_list[pn+1][0]) - center_y) / 2)+20\n",
    "                y_bottom = int(abs(int(point_list[pn+1][0]) - center_y) / 2)+20\n",
    "\n",
    "            elif pn == len(point_list)-1:\n",
    "                y_top = int(abs(int(point_list[pn-1][0]) - center_y) / 2)+20\n",
    "                y_bottom = int(abs(int(point_list[pn-1][0]) - center_y) / 2)+20\n",
    "\n",
    "            else:\n",
    "                y_top = int(abs(int(point_list[pn-1][0]) - center_y) / 2)+20\n",
    "                y_bottom = int(abs(int(point_list[pn+1][0]) - center_y) / 2)+20\n",
    "\n",
    "            if center_x-200 <0:\n",
    "                x_left = center_x\n",
    "                continue\n",
    "            else:\n",
    "                x_left = 200\n",
    "\n",
    "            if center_x+200 >= image.shape[1]:\n",
    "                x_right = image.shape[1] - center_x -1\n",
    "                continue\n",
    "            else:\n",
    "                x_right = 200\n",
    "\n",
    "            if center_y-y_bottom <0:\n",
    "                y_bottom = center_y\n",
    "                continue\n",
    "\n",
    "            if center_y+y_top >= image.shape[0]:\n",
    "                y_top = image.shape[0] - center_y -1\n",
    "                continue\n",
    "\n",
    "            crop_img = image[center_y-y_bottom:center_y+y_top,center_x-x_left:center_x+x_right]\n",
    "        return crop_img\n",
    " \n",
    "        "
   ]
  },
  {
   "cell_type": "code",
   "execution_count": null,
   "metadata": {},
   "outputs": [],
   "source": []
  }
 ],
 "metadata": {
  "kernelspec": {
   "display_name": "Python 3 (ipykernel)",
   "language": "python",
   "name": "python3"
  },
  "language_info": {
   "codemirror_mode": {
    "name": "ipython",
    "version": 3
   },
   "file_extension": ".py",
   "mimetype": "text/x-python",
   "name": "python",
   "nbconvert_exporter": "python",
   "pygments_lexer": "ipython3",
   "version": "3.9.7"
  }
 },
 "nbformat": 4,
 "nbformat_minor": 4
}
