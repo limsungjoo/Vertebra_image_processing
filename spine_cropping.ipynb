{
 "cells": [
  {
   "cell_type": "code",
   "execution_count": 2,
   "metadata": {},
   "outputs": [],
   "source": [
    "import cv2\n",
    "import matplotlib.pyplot as plt\n",
    "import numpy as np\n",
    "import os "
   ]
  },
  {
   "cell_type": "code",
   "execution_count": 22,
   "metadata": {},
   "outputs": [],
   "source": [
    "data_path = '/home/sonic/Desktop/104_data1/jupyter/sungjoo/VF/PseudoEdgeNet/PseudoEdgeNet_Nuclei_Segmentation_only_with_Point_Annotations-master/data/lateral/Dataset'\n",
    "mask_path ='/home/sonic/Desktop/104_data1/jupyter/sungjoo/VF/PseudoEdgeNet/PseudoEdgeNet_Nuclei_Segmentation_only_with_Point_Annotations-master/data/lateral/Label'"
   ]
  },
  {
   "cell_type": "code",
   "execution_count": 6,
   "metadata": {},
   "outputs": [],
   "source": [
    "def findcontour(threshold_img):\n",
    "    contours, _ = cv2.findContours(threshold_img.astype(np.uint8), cv2.RETR_EXTERNAL, cv2.CHAIN_APPROX_SIMPLE)\n",
    "    \n",
    "\n",
    "    print(\"Contours length: \" + str(len(contours)))\n",
    "    rect = [cv2.boundingRect(cnt) for cnt in contours]\n",
    "    print(\"boundingRect length: \" + str(len(contours)))\n",
    "#     print(rect)\n",
    "#     print(rect[0])\n",
    "#     print(contours[0].shape)\n",
    "    return rect,contours"
   ]
  },
  {
   "cell_type": "code",
   "execution_count": 20,
   "metadata": {},
   "outputs": [],
   "source": [
    "def crop_spine(rect, threshold_img, org_img):\n",
    "#     sub_crop_img = ''\n",
    "#     sub_crop_msk = ''\n",
    "    crop_imgs = []\n",
    "    crop_msks = []\n",
    "    i=0\n",
    "    for i in range(len(rect)):\n",
    "        for j,(x, y, w, h) in enumerate([rect[i]]):\n",
    "            left, top, right, bottom = x, y, x+w, y+h\n",
    "            sub_crop_msk = crop(threshold_img, give_border((left, top, right, bottom),30,threshold_img.shape, True))\n",
    "            sub_crop_img = crop(org_img, give_border((left, top, right, bottom),30,threshold_img.shape, True))\n",
    "            \n",
    "#             print(msk_dir.replace(msk_dir.split('.')[-2],msk_dir.split('.')[-2]+ '_'+str(i+1)))\n",
    "#             cv2.imwrite(img_dir.replace(img_dir.split('.')[-2],img_dir.split('.')[-2]+ '_'+str(i+1)), sub_crop_img)\n",
    "#             cv2.imwrite(msk_dir.replace(msk_dir.split('.')[-2],msk_dir.split('.')[-2]+ '_'+str(i+1)) ,sub_crop_msk)\n",
    "            crop_imgs.append(sub_crop_img)\n",
    "            crop_msks.append(sub_crop_msk)\n",
    "#         print(crop_imgs)\n",
    "#         cv2.imwrite(img_dir,crop_imgs[i])\n",
    "#         cv2.imwrite(msk_dir,crop_msks[i])\n",
    "        \n",
    "    return crop_imgs,crop_msks"
   ]
  },
  {
   "cell_type": "code",
   "execution_count": 8,
   "metadata": {},
   "outputs": [],
   "source": [
    "#찾은 좌표 바탕으로 이미지 crop\n",
    "def crop(image, coords, border=0, logging=False):\n",
    "    # coords should be a tuple with (x1, y1, x2, y2)\n",
    "    if logging:\n",
    "        print(\"Shape of image: \" + str(shape(image)))\n",
    "    left, top, right, bottom = coords\n",
    "\n",
    "    if isinstance(image, np.ndarray):\n",
    "        return image[top: bottom, left: right]\n",
    "    else:\n",
    "        return image.crop((left, top, right, bottom))"
   ]
  },
  {
   "cell_type": "code",
   "execution_count": 9,
   "metadata": {},
   "outputs": [],
   "source": [
    "#찾은 좌표 바탕으로 boarder 넓히기\n",
    "def give_border(coords, border, shp, logging=False):\n",
    "    flag = False\n",
    "    coords = coords[0]-border, coords[1]-border, coords[2]+border, coords[3]+border\n",
    "\n",
    "    if logging:\n",
    "        print(\"Give border: \" + str(coords))\n",
    "\n",
    "    if coords[0] < 0:\n",
    "        print(\"Left small: \" + str(coords[0]))\n",
    "        coords = (0, coords[1], coords[2], coords[3])\n",
    "        flag = True\n",
    "    if coords[1] < 0:\n",
    "        print(\"Top small: \" + str(coords[1]))\n",
    "        coords = (coords[0], 0, coords[2], coords[3])\n",
    "        flag = True\n",
    "\n",
    "    if coords[2] > shp[1]:\n",
    "        print(\"Right big: \" + str(coords[2]))\n",
    "        coords = (coords[0], coords[1], shp[1], coords[3])\n",
    "        flag = True\n",
    "\n",
    "    if coords[3] > shp[0]:\n",
    "        print(\"Bottom Big: \" + str(coords[3]))\n",
    "        coords = (coords[0], coords[1], coords[2], shp[0])\n",
    "        flag = True\n",
    "\n",
    "    # if flag == False:\n",
    "    #     print(\"Nothing has changed in give border\")\n",
    "    return coords"
   ]
  },
  {
   "cell_type": "code",
   "execution_count": null,
   "metadata": {},
   "outputs": [],
   "source": [
    "for i in os.listdir(data_path):\n",
    "    name = i.split('.')[-2]+'_label.png'\n",
    "    img = os.path.join(data_path,i)\n",
    "    \n",
    "    image = cv2.imread(img, 0)\n",
    "    mask = cv2.imread(os.path.join(mask_path,name),0)\n",
    "    rect,contours = findcontour(mask)\n",
    "    \n",
    "#     msk_dir = os.path.join(save_msk_dir, i)\n",
    "#     img_dir = os.path.join(save_img_dir, i)\n",
    "    crop_imgs,crop_msks=crop_spine(rect, mask,image)\n",
    "    \n",
    "    for img,msk in zip(crop_imgs,crop_msks):\n",
    "        fig = plt.figure()\n",
    "        ax1 = fig.add_subplot(1, 2, 1)\n",
    "        ax2 = fig.add_subplot(1, 2, 2)\n",
    "\n",
    "        ax1.imshow(img,cmap='gray')\n",
    "        ax2.imshow(msk,cmap='gray')\n",
    "        plt.show()"
   ]
  }
 ],
 "metadata": {
  "kernelspec": {
   "display_name": "Python 3 (ipykernel)",
   "language": "python",
   "name": "python3"
  },
  "language_info": {
   "codemirror_mode": {
    "name": "ipython",
    "version": 3
   },
   "file_extension": ".py",
   "mimetype": "text/x-python",
   "name": "python",
   "nbconvert_exporter": "python",
   "pygments_lexer": "ipython3",
   "version": "3.9.7"
  }
 },
 "nbformat": 4,
 "nbformat_minor": 4
}
