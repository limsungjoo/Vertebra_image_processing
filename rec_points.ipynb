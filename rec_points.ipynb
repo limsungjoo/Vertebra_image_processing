{
 "cells": [
  {
   "cell_type": "code",
   "execution_count": 1,
   "metadata": {},
   "outputs": [],
   "source": [
    "import os\n",
    "from glob import glob\n",
    "import cv2\n",
    "import matplotlib.pyplot as plt\n",
    "import numpy as np\n"
   ]
  },
  {
   "cell_type": "code",
   "execution_count": 19,
   "metadata": {},
   "outputs": [],
   "source": [
    "path = \"/home/sonic/Desktop/lateral/Test/Label/*\""
   ]
  },
  {
   "cell_type": "code",
   "execution_count": 20,
   "metadata": {
    "scrolled": true
   },
   "outputs": [
    {
     "data": {
      "text/plain": [
       "array([0., 1.], dtype=float32)"
      ]
     },
     "execution_count": 20,
     "metadata": {},
     "output_type": "execute_result"
    },
    {
     "data": {
      "image/png": "[encoded data removed]",
      "text/plain": [
       "<Figure size 432x288 with 1 Axes>"
      ]
     },
     "metadata": {
      "needs_background": "light"
     },
     "output_type": "display_data"
    }
   ],
   "source": [
    "img = plt.imread(glob(path)[0])\n",
    "plt.imshow(img)\n",
    "np.unique(img)"
   ]
  },
  {
   "cell_type": "code",
   "execution_count": null,
   "metadata": {},
   "outputs": [],
   "source": [
    "# print(np.stack((img,)*3,axis=-1).shape)\n",
    "img = cv2.imread(glob(path)[0])\n",
    "img_ori = cv2.imread(glob(path)[0].replace(\"/Label/\",\"/Dataset/\").replace(\"_label\",\"\"))\n",
    "\n",
    "img_gray = cv2.imread(glob(path)[0],0)\n",
    "print(img.shape)\n",
    "#     ret,thresh = cv2.threshold(mask, 40, 255, 0)\n",
    "if (int(cv2.__version__[0]) > 3):\n",
    "    contours, hierarchy = cv2.findContours(img_gray, cv2.RETR_EXTERNAL, cv2.CHAIN_APPROX_NONE)\n",
    "else:\n",
    "    im2, contours, hierarchy = cv2.findContours(img_gray, cv2.RETR_EXTERNAL, cv2.CHAIN_APPROX_NONE)\n",
    "    \n",
    "for contour in contours:\n",
    "    x,y,w,h = cv2.boundingRect(contour)\n",
    "#     print(x,y,w,h)\n",
    "    cv2.rectangle(img_ori,(x,y),(x+w,y+h),(0,0,255),3)\n",
    "    \n",
    "    \n",
    "plt.figure(figsize=(20,20))\n",
    "plt.imshow(img_ori)"
   ]
  },
  {
   "cell_type": "code",
   "execution_count": null,
   "metadata": {},
   "outputs": [],
   "source": [
    "# print(np.stack((img,)*3,axis=-1).shape)\n",
    "img = cv2.imread(glob(path)[0])\n",
    "img_ori = cv2.imread(glob(path)[0].replace(\"/Label/\",\"/Dataset/\").replace(\"_label\",\"\"))\n",
    "\n",
    "img_gray = cv2.imread(glob(path)[0],0)\n",
    "print(img.shape)\n",
    "#     ret,thresh = cv2.threshold(mask, 40, 255, 0)\n",
    "if (int(cv2.__version__[0]) > 3):\n",
    "    contours, hierarchy = cv2.findContours(img_gray, cv2.RETR_EXTERNAL, cv2.CHAIN_APPROX_NONE)\n",
    "else:\n",
    "    im2, contours, hierarchy = cv2.findContours(img_gray, cv2.RETR_EXTERNAL, cv2.CHAIN_APPROX_NONE)\n",
    "    \n",
    "for contour in contours:\n",
    "\n",
    "    rect = cv2.minAreaRect(contour)\n",
    "    box = cv2.boxPoints(rect)\n",
    "    box = np.int0(box)\n",
    "#     print(box)\n",
    "    cv2.drawContours(img_ori,[box],0,(0,255,0),3)\n",
    "\n",
    "    \n",
    "    \n",
    "plt.figure(figsize=(20,20))\n",
    "plt.imshow(img_ori)"
   ]
  },
  {
   "cell_type": "code",
   "execution_count": null,
   "metadata": {},
   "outputs": [],
   "source": [
    "# print(np.stack((img,)*3,axis=-1).shape)\n",
    "img = cv2.imread(glob(path)[0])\n",
    "img_ori = cv2.imread(glob(path)[0].replace(\"/Label/\",\"/Dataset/\").replace(\"_label\",\"\"))\n",
    "\n",
    "img_gray = cv2.imread(glob(path)[0],0)\n",
    "print(img.shape)\n",
    "#     ret,thresh = cv2.threshold(mask, 40, 255, 0)\n",
    "if (int(cv2.__version__[0]) > 3):\n",
    "    contours, hierarchy = cv2.findContours(img_gray, cv2.RETR_EXTERNAL, cv2.CHAIN_APPROX_NONE)\n",
    "else:\n",
    "    im2, contours, hierarchy = cv2.findContours(img_gray, cv2.RETR_EXTERNAL, cv2.CHAIN_APPROX_NONE)\n",
    "    \n",
    "for contour in contours:\n",
    "    \n",
    "    # circle1\n",
    "    ellipse = cv2.fitEllipse(contour)\n",
    "    img = cv2.ellipse(img_ori,ellipse,(0,255,0),2)\n",
    "    \n",
    "    \n",
    "    \n",
    "    \n",
    "plt.figure(figsize=(20,20))\n",
    "plt.imshow(img_ori)"
   ]
  },
  {
   "cell_type": "code",
   "execution_count": null,
   "metadata": {},
   "outputs": [],
   "source": [
    "# print(np.stack((img,)*3,axis=-1).shape)\n",
    "img = cv2.imread(glob(path)[0])\n",
    "img_ori = cv2.imread(glob(path)[0].replace(\"/Label/\",\"/Dataset/\").replace(\"_label\",\"\"))\n",
    "\n",
    "img_gray = cv2.imread(glob(path)[0],0)\n",
    "print(img.shape)\n",
    "#     ret,thresh = cv2.threshold(mask, 40, 255, 0)\n",
    "if (int(cv2.__version__[0]) > 3):\n",
    "    contours, hierarchy = cv2.findContours(img_gray, cv2.RETR_EXTERNAL, cv2.CHAIN_APPROX_NONE)\n",
    "else:\n",
    "    im2, contours, hierarchy = cv2.findContours(img_gray, cv2.RETR_EXTERNAL, cv2.CHAIN_APPROX_NONE)\n",
    "    \n",
    "for contour in contours:\n",
    "    \n",
    "#     circle2\n",
    "    (x,y),radius = cv2.minEnclosingCircle(contour)\n",
    "    center = (int(x),int(y))\n",
    "    radius = int(radius)\n",
    "    cv2.circle(img_ori,center,radius,(0,255,0),2)\n",
    "    \n",
    "    \n",
    "plt.figure(figsize=(20,20))\n",
    "plt.imshow(img_ori)\n",
    "# plt.imshow(img,alpha=0.5)\n",
    "# print(len(contours))\n",
    "# image = cv2.drawContours(img, contours, -1, (0,255,0), 3)\n",
    "# print(image.shape)\n",
    "# plt.imshow(image)"
   ]
  },
  {
   "cell_type": "code",
   "execution_count": 14,
   "metadata": {},
   "outputs": [
    {
     "name": "stdout",
     "output_type": "stream",
     "text": [
      "HIRA20_CF_000718_label.png\n"
     ]
    }
   ],
   "source": [
    "print(glob(path)[0].split('/')[-1])"
   ]
  },
  {
   "cell_type": "code",
   "execution_count": null,
   "metadata": {},
   "outputs": [],
   "source": [
    "# print(np.stack((img,)*3,axis=-1).shape)]\n",
    "save_path = '/home/sonic/Downloads/PointsAnotation/Test'\n",
    "for i in range (len(glob(path))):\n",
    "    img = cv2.imread(glob(path)[i])\n",
    "    img_ori = cv2.imread(glob(path)[i].replace(\"/Label/\",\"/Dataset/\").replace(\"_label\",\"\"))\n",
    "\n",
    "    img_gray = cv2.imread(glob(path)[i],0)\n",
    "\n",
    "    if (int(cv2.__version__[0]) > 3):\n",
    "        contours, hierarchy = cv2.findContours(img_gray, cv2.RETR_EXTERNAL, cv2.CHAIN_APPROX_NONE)\n",
    "    else:\n",
    "        im2, contours, hierarchy = cv2.findContours(img_gray, cv2.RETR_EXTERNAL, cv2.CHAIN_APPROX_NONE)\n",
    "\n",
    "    black = img\n",
    "    black[:,:]=0    \n",
    "    for contour in contours:\n",
    "\n",
    "        epsilon = 0.1 * cv2.arcLength(contour,True)\n",
    "        approx = cv2.approxPolyDP(contour,epsilon,True)\n",
    "        print(len(approx))\n",
    "    #     cv2.drawContours(img_ori,[approx],0,(0,255,0),3)\n",
    "        try:\n",
    "            #center points\n",
    "            M = cv2.moments(contour)\n",
    "            cX = int(M[\"m10\"] / M[\"m00\"])\n",
    "            cY = int(M[\"m01\"] / M[\"m00\"])\n",
    "\n",
    "            cv2.circle(img_ori, (cX, cY), 7, (255, 255, 255), -1)\n",
    "            cv2.circle(black, (cX, cY), 7, (255, 255, 255), -1)\n",
    "            cv2.imwrite(os.path.join(save_path,glob(path)[i].split('/')[-1]),black)\n",
    "        except:\n",
    "            print('error')\n",
    "    plt.figure(figsize=(10,10))\n",
    "    plt.subplot(1,2,1),plt.imshow(img_ori)\n",
    "    plt.subplot(1,2,2),plt.imshow(black)\n",
    "# plt.imshow(img,alpha=0.5)\n",
    "# print(len(contours))\n",
    "# image = cv2.drawContours(img, contours, -1, (0,255,0), 3)\n",
    "# print(image.shape)\n",
    "# plt.imshow(image)"
   ]
  },
  {
   "cell_type": "code",
   "execution_count": null,
   "metadata": {},
   "outputs": [],
   "source": [
    "save_path = '/home/sonic/Downloads/PointsAnotation/Train/*'\n",
    "img = cv2.imread(glob(save_path)[0],0)\n",
    "# kernel = cv2.getStructuringElement(cv2.MORPH_CROSS, (9, 9))\n",
    "# dilate = cv2.dilate(img, kernel, anchor=(-1, -1), iterations=5)\n",
    "\n",
    "\n",
    "kernel_size = 20\n",
    "kernel = np.ones((kernel_size, kernel_size), np.uint8)\n",
    "dilate = cv2.dilate(img, kernel, iterations = 5)\n",
    "plt.figure(figsize=(20,20))\n",
    "plt.subplot(1,2,1),plt.imshow(img,'gray')\n",
    "plt.subplot(1,2,2),plt.imshow(dilate,'gray')"
   ]
  },
  {
   "cell_type": "code",
   "execution_count": 70,
   "metadata": {},
   "outputs": [],
   "source": [
    "def save_txt(path,txt):\n",
    "    with open(path,\"w\",encoding=\"utf-8\") as f:\n",
    "        f.write(txt)\n",
    "        f.close()\n",
    "    return"
   ]
  },
  {
   "cell_type": "code",
   "execution_count": 81,
   "metadata": {},
   "outputs": [],
   "source": [
    "pointstxt = \"name,x1,y1,x2,y2,x3,y3,x4,y4\\n\"\n",
    "\n",
    "for mask in glob(path):\n",
    "    name = mask.split(\"/\")[-1].replace(\"_label\",\"\")\n",
    "    img_gray = cv2.imread(mask,0)\n",
    "    # x-ray images\n",
    "    img_ori = cv2.imread(mask.replace(\"/Label/\",\"/Dataset/\").replace(\"_label\",\"\"))\n",
    "    if (int(cv2.__version__[0]) > 3):\n",
    "        contours, hierarchy = cv2.findContours(img_gray, cv2.RETR_EXTERNAL, cv2.CHAIN_APPROX_NONE)\n",
    "    else:\n",
    "        im2, contours, hierarchy = cv2.findContours(img_gray, cv2.RETR_EXTERNAL, cv2.CHAIN_APPROX_NONE)\n",
    "    \n",
    "    for contour in contours:\n",
    "    \n",
    "        epsilon = 0.05 * cv2.arcLength(contour,True)\n",
    "        approx = cv2.approxPolyDP(contour,epsilon,True)\n",
    "\n",
    "#         if len(approx) != 4:\n",
    "#             if len(approx) < 4:\n",
    "#                 epsilon = 0.03 * cv2.arcLength(contour,True)\n",
    "#                 approx = cv2.approxPolyDP(contour,epsilon,True)\n",
    "#             else:\n",
    "#                 epsilon = 0.1 * cv2.arcLength(contour,True)\n",
    "#                 approx = cv2.approxPolyDP(contour,epsilon,True)\n",
    "        \n",
    "        if len(approx) != 4:\n",
    "            continue\n",
    "        points = []\n",
    "        for point in approx:\n",
    "            points.append(str(point[0][0]))\n",
    "            points.append(str(point[0][1]))\n",
    "        pointstxt += name+\",\"+\",\".join(points)+\"\\n\"\n",
    "        \n",
    "        cv2.drawContours(img_ori,[approx],0,(0,255,0),3)\n",
    "    \n",
    "    \n",
    "    cv2.imwrite('img/'+name, img_ori)\n",
    "    \n",
    "\n",
    "# print(pointstxt)\n",
    "save_txt(\"./points.csv\",pointstxt)\n",
    "    \n",
    "        \n",
    "    "
   ]
  },
  {
   "cell_type": "code",
   "execution_count": null,
   "metadata": {},
   "outputs": [],
   "source": [
    "imgpath = \"/home/ccids-sw/Desktop/sw/104_root/jupyter/sungjoo/VF/PseudoEdgeNet/PseudoEdgeNet_Nuclei_Segmentation_only_with_Point_Annotations-master/data/lateral/Label/HIRA20_CF_000051_label.png\"\n",
    "# print(np.stack((img,)*3,axis=-1).shape)\n",
    "img = cv2.imread(imgpath)\n",
    "img_ori = cv2.imread(imgpath.replace(\"/Label/\",\"/Dataset/\").replace(\"_label\",\"\"))\n",
    "\n",
    "img_gray = cv2.imread(imgpath,0)\n",
    "\n",
    "if (int(cv2.__version__[0]) > 3):\n",
    "    contours, hierarchy = cv2.findContours(img_gray, cv2.RETR_EXTERNAL, cv2.CHAIN_APPROX_NONE)\n",
    "else:\n",
    "    im2, contours, hierarchy = cv2.findContours(img_gray, cv2.RETR_EXTERNAL, cv2.CHAIN_APPROX_NONE)\n",
    "    \n",
    "for contour in contours:\n",
    "    \n",
    "    epsilon = 0.05 * cv2.arcLength(contour,True)\n",
    "    approx = cv2.approxPolyDP(contour,epsilon,True)\n",
    "    print(len(approx))\n",
    "    cv2.drawContours(img_ori,[approx],0,(0,255,0),3)\n",
    "    \n",
    "    \n",
    "plt.figure(figsize=(20,20))\n",
    "plt.imshow(img_ori)"
   ]
  }
 ],
 "metadata": {
  "kernelspec": {
   "display_name": "Python 3 (ipykernel)",
   "language": "python",
   "name": "python3"
  },
  "language_info": {
   "codemirror_mode": {
    "name": "ipython",
    "version": 3
   },
   "file_extension": ".py",
   "mimetype": "text/x-python",
   "name": "python",
   "nbconvert_exporter": "python",
   "pygments_lexer": "ipython3",
   "version": "3.9.7"
  }
 },
 "nbformat": 4,
 "nbformat_minor": 2
}
