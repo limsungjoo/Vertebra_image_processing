{
 "cells": [
  {
   "cell_type": "code",
   "execution_count": 39,
   "metadata": {},
   "outputs": [],
   "source": [
    "import os\n",
    "import matplotlib.pyplot as plt\n",
    "import numpy as np\n",
    "import pandas as pd\n",
    "import cv2\n",
    "import SimpleITK  as sitk\n",
    "from glob import glob"
   ]
  },
  {
   "cell_type": "code",
   "execution_count": null,
   "metadata": {
    "scrolled": true
   },
   "outputs": [],
   "source": [
    "mask_path = './test_img'\n",
    "points_path = './full_points.csv'\n",
    "\n",
    "file_list = glob(os.path.join(mask_path,'*_13.jpg'))\n",
    "print(len(file_list))\n",
    "\n",
    "for file_name in file_list:\n",
    "    file = file_name.split('/')[-1]\n",
    "    name = file[:-7]\n",
    "    \n",
    "    ori_img = \"./img/\"+name+\".jpg\"\n",
    "    \n",
    "    ori_img = cv2.imread(ori_img,0)\n",
    "    img = cv2.imread(file_name,0)\n",
    "    mask = cv2.bitwise_not(img)\n",
    "    \n",
    "    h=mask.shape[0]\n",
    "    w=mask.shape[1]\n",
    "    print(mask.shape)\n",
    "    new_points = centerpoint(points_path,file_name)\n",
    "    \n",
    "    \n",
    "    try :\n",
    "        crops = cropping_ver(new_points,mask)\n",
    "        ori_crops = cropping_ver(new_points,ori_img)\n",
    "    \n",
    "        i=1\n",
    "        for crop,ori_crop in zip(crops,ori_crops):\n",
    "#             fast = cv2.fastNlMeansDenoising(crop, None, 20,7,25)\n",
    "            \n",
    "            Gau = cv2.GaussianBlur(crop, (0,0),3)\n",
    "            result = drawROI(Gau)\n",
    "            \n",
    "            img_cal = result /255\n",
    "            \n",
    "            if round(img_cal.sum() / (img_cal.shape[0]*img_cal.shape[1])*100,2) > 27 and round(img_cal.sum() / (img_cal.shape[0]*img_cal.shape[1])*100,2) < 50:\n",
    "                cv2.imwrite(os.path.join('./result2',name+'_'+str(i)+'.jpg'),result)\n",
    "                fig = plt.figure()\n",
    "                ax1 = fig.add_subplot(1, 3, 1)\n",
    "                ax2 = fig.add_subplot(1, 3, 2)\n",
    "                ax3 = fig.add_subplot(1, 3, 3)\n",
    "                ax1.imshow(ori_crop,cmap='gray')\n",
    "                ax2.imshow(crop,cmap='gray')\n",
    "                ax3.imshow(result,cmap='gray')\n",
    "                plt.show()\n",
    "#             i+=1\n",
    "#         for image in img_crops:\n",
    "#             plt.imshow(image,'gray')\n",
    "#         plt.show()\n",
    "#             break\n",
    "    except :\n",
    "        print('crop error')\n",
    "        \n",
    "    "
   ]
  },
  {
   "cell_type": "code",
   "execution_count": 15,
   "metadata": {},
   "outputs": [
    {
     "name": "stdout",
     "output_type": "stream",
     "text": [
      "(array([136335,      0,      0,      0,      0,      0,      0,      0,\n",
      "            0,  20465]), array([0. , 0.1, 0.2, 0.3, 0.4, 0.5, 0.6, 0.7, 0.8, 0.9, 1. ]))\n"
     ]
    },
    {
     "data": {
      "text/plain": [
       "13.05"
      ]
     },
     "execution_count": 15,
     "metadata": {},
     "output_type": "execute_result"
    }
   ],
   "source": [
    "img = cv2.imread(\"./result2/20091122_1247534_ser001img00006_1.jpg\",0)\n",
    "img = img /255\n",
    "print(np.histogram(img))\n",
    "round(img.sum() / (img.shape[0]*img.shape[1])*100,2)"
   ]
  },
  {
   "cell_type": "code",
   "execution_count": null,
   "metadata": {},
   "outputs": [],
   "source": []
  },
  {
   "cell_type": "code",
   "execution_count": 2,
   "metadata": {},
   "outputs": [],
   "source": [
    "mask_path = './test_img'\n",
    "points_path = './full_points.csv'"
   ]
  },
  {
   "cell_type": "code",
   "execution_count": 4,
   "metadata": {},
   "outputs": [
    {
     "name": "stdout",
     "output_type": "stream",
     "text": [
      "184\n"
     ]
    }
   ],
   "source": [
    "file_list = glob(os.path.join(mask_path,'*_13.jpg'))\n",
    "print(len(file_list))"
   ]
  },
  {
   "cell_type": "code",
   "execution_count": null,
   "metadata": {
    "scrolled": true
   },
   "outputs": [],
   "source": [
    "# file_list = file_list[:10]\n",
    "\n",
    "for file_name in file_list:\n",
    "    file = file_name.split('/')[-1]\n",
    "    name = file[:-7]\n",
    "\n",
    "    \n",
    "    img = cv2.imread(file_name,0)\n",
    "    mask = cv2.bitwise_not(img)\n",
    "    \n",
    "    h=mask.shape[0]\n",
    "    w=mask.shape[1]\n",
    "    print(mask.shape)\n",
    "    new_points = centerpoint(points_path,file_name)\n",
    "    crops = cropping_ver(new_points,mask)\n",
    "    \n",
    "    try :\n",
    "        i=1\n",
    "        for crop in crops:\n",
    "#             fast = cv2.fastNlMeansDenoising(crop, None, 20,7,25)\n",
    "            \n",
    "            Gau = cv2.GaussianBlur(crop, (0,0),3)\n",
    "            result = drawROI(Gau)\n",
    "            \n",
    "            plt.imshow(result,cmap='gray')\n",
    "            plt.show()\n",
    "            \n",
    "            cv2.imwrite(os.path.join('./result',name+'_'+str(i)+'.jpg'),result)\n",
    "            i+=1\n",
    "#         for image in img_crops:\n",
    "#             plt.imshow(image,'gray')\n",
    "#         plt.show()\n",
    "    except :\n",
    "        print('crop error')\n",
    "        \n",
    "    "
   ]
  },
  {
   "cell_type": "code",
   "execution_count": 2,
   "metadata": {},
   "outputs": [],
   "source": [
    "def centerpoint(points_path,file_name):\n",
    "    file_name = file_name.split('/')[-1]\n",
    "    name = file_name[:-7]+'.jpg'\n",
    "    print(name)\n",
    "    arr = pd.read_csv(points_path).to_numpy()\n",
    "    keys = np.array(arr[...,2])\n",
    "    keys_unique = np.unique(keys)\n",
    "    new_points=[]\n",
    "    for key_unique in keys_unique:\n",
    "        vals= arr[np.where(arr[...,2]==key_unique)]\n",
    "#     print(vals)\n",
    "        for val in vals:\n",
    "            if val[2]==name:\n",
    "#             print(val)\n",
    "                new_points.append(val)\n",
    "    new_points = np.array(new_points)            \n",
    "    print(new_points)\n",
    "    return new_points"
   ]
  },
  {
   "cell_type": "code",
   "execution_count": 3,
   "metadata": {},
   "outputs": [],
   "source": [
    "def cropping(new_points,mask):\n",
    "    crops = []\n",
    "    if len(new_points)<8:\n",
    "        for new_point in new_points:\n",
    "            center_x = new_point[3]\n",
    "            center_y = new_point[4]\n",
    "        #     rect = cv2.rectangle(mask, (center_x-200,center_y-150),(center_x+200,center_y+150),(255,255,255),-1)\n",
    "            crops.append(mask[center_y-180:center_y+180, center_x-210:center_x+210])\n",
    "\n",
    "    else :\n",
    "        for new_point in new_points:\n",
    "            center_x = new_point[3]\n",
    "            center_y = new_point[4]\n",
    "        #     rect = cv2.rectangle(mask, (center_x-200,center_y-150),(center_x+200,center_y+150),(255,255,255),-1)\n",
    "            crops.append(mask[center_y-110:center_y+110, center_x-140:center_x+140])\n",
    "    return crops"
   ]
  },
  {
   "cell_type": "code",
   "execution_count": 3,
   "metadata": {},
   "outputs": [],
   "source": [
    "def cropping_ver(new_points,mask):\n",
    "    y_list = []\n",
    "    crops=[]\n",
    "#     mask = mask.copy()\n",
    "    for new_point in new_points:\n",
    "        center_x = new_point[3]\n",
    "        center_y = new_point[4]\n",
    "\n",
    "        y_list.append(new_point[4])\n",
    "    y_list = np.array(y_list)\n",
    "\n",
    "    y_max = y_list.max()\n",
    "    y_min = y_list.min()\n",
    "    \n",
    "    diff_ls=[]\n",
    "    for i in range(len(y_list)-1):\n",
    "    #     if i == len(y_list):\n",
    "    #         break\n",
    "        diff = y_list[i]-y_list[i+1]\n",
    "\n",
    "        diff_ls.append(abs(diff))\n",
    "        diff_np = np.array(diff_ls)\n",
    "\n",
    "        if diff_np.min():\n",
    "\n",
    "\n",
    "            y_diff = diff_np.min()\n",
    "\n",
    "    y_border= y_diff\n",
    "    for new_point in new_points:\n",
    "        center_x = new_point[3]\n",
    "        center_y = new_point[4]\n",
    "        cropping = mask[center_y-y_border:center_y+y_border,center_x-200:center_x+200]\n",
    "        crops.append(cropping)\n",
    "    return crops\n"
   ]
  },
  {
   "cell_type": "code",
   "execution_count": 81,
   "metadata": {},
   "outputs": [],
   "source": [
    "def cropping(new_points,mask):\n",
    "    rect_list = []\n",
    "    crops=[]\n",
    "    crop_list = []\n",
    "    mask = mask.copy()\n",
    "    border = 5\n",
    "    for new_point in new_points:\n",
    "        center_x = new_point[3]\n",
    "        center_y = new_point[4]\n",
    "        rect = cv2.rectangle(mask, (center_x-110,center_y-80),(center_x+110,center_y+80),(255,255,255),-1)\n",
    "        coords = center_x-110, center_y-80, center_x+110,center_y+80\n",
    "        crops.append(mask[coords[1]:coords[3], coords[0]:coords[2]])\n",
    "        print('1:',coords)\n",
    "        \n",
    "        rect_list.append(rect)\n",
    "    \n",
    "    \n",
    "    \n",
    "    for i in rect_list:\n",
    "    #     img = i\n",
    "        msk_error = i\n",
    "\n",
    "        _, is_single = find_contours(msk_error)\n",
    "        new_coords = coords\n",
    "        print('3:',new_coords)\n",
    "        cropping = mask[new_coords[1]:new_coords[3], new_coords[0]:new_coords[2]]\n",
    "        crop_list.append(cropping)\n",
    "        plt.imshow(cropping,'gray')\n",
    "        ## Single Contour Case\n",
    "        dilate = msk_error\n",
    "\n",
    "        ## Multi Contour Case\n",
    "        kernel_size = 35\n",
    "        while not is_single:\n",
    "            kernel = np.ones((kernel_size, kernel_size), np.uint8)\n",
    "            dilate = cv2.dilate(msk_error, kernel, iterations = 3)\n",
    "            new_coords = coords[0]-border,coords[1]-border,coords[2]+border,coords[3]+border\n",
    "            print('2:',new_coords)\n",
    "            cropping = mask[new_coords[1]:new_coords[3], new_coords[0]:new_coords[2]]\n",
    "          \n",
    "            \n",
    "            _, is_single = find_contours(dilate)\n",
    "            border += 5\n",
    "            kernel_size += 2\n",
    "            \n",
    "            crop_list.append(cropping)\n",
    "    plt.show()\n",
    "    return crop_list\n",
    "\n",
    "def find_contours(org_img):\n",
    "    contours, _= cv2.findContours(org_img.astype(np.uint8), cv2.RETR_EXTERNAL, cv2.CHAIN_APPROX_SIMPLE)\n",
    "    return contours, len(contours) == 1"
   ]
  },
  {
   "cell_type": "code",
   "execution_count": 4,
   "metadata": {},
   "outputs": [],
   "source": [
    "def drawROI(img):\n",
    "    ret, img = cv2.threshold(img, 70, 255, cv2.THRESH_BINARY)\n",
    "    kernel = np.ones((3,3),np.uint8)\n",
    "    img = cv2.morphologyEx(img,cv2.MORPH_CLOSE,kernel)\n",
    "    # Find contours\n",
    "    contours, _ = cv2.findContours(img, cv2.RETR_TREE, cv2.CHAIN_APPROX_NONE)\n",
    "    contours.sort(key=lambda x: len(x), reverse=True)\n",
    "   \n",
    "    # make mask\n",
    "    if len(contours)>2:\n",
    "       \n",
    "        mask = np.zeros_like(img)\n",
    "        mask = cv2.drawContours(mask, [contours[0]], 0, 255, -1)\n",
    "        mask = cv2.drawContours(mask, [contours[1]], 0, 255, -1)\n",
    "\n",
    "        # find two extreme points\n",
    "        c = contours[0]\n",
    "        fleft = tuple(c[c[:, :, 0].argmin()][0])\n",
    "        fright = tuple(c[c[:, :, 0].argmax()][0])\n",
    "\n",
    "        c = contours[1]\n",
    "        sleft = tuple(c[c[:, :, 0].argmin()][0])\n",
    "        sright = tuple(c[c[:, :, 0].argmax()][0])\n",
    "\n",
    "        # connect\n",
    "        mask = cv2.line(mask, fleft, sleft, 255, 5)\n",
    "        mask = cv2.line(mask, fright, sright, 255, 5)\n",
    "\n",
    "        # draw whole ROI\n",
    "        contours, _ = cv2.findContours(mask, cv2.RETR_TREE, cv2.CHAIN_APPROX_NONE)\n",
    "        contours.sort(key=lambda x: len(x), reverse=True)\n",
    "\n",
    "        mask = cv2.drawContours(mask, [contours[0]], 0, 255, -1)\n",
    "    else :\n",
    "        mask = np.zeros_like(img)\n",
    "    return mask "
   ]
  },
  {
   "cell_type": "code",
   "execution_count": 101,
   "metadata": {},
   "outputs": [],
   "source": [
    "mask_path = './test_img/20140225_7809283_ser001img00002_63.jpg'\n",
    "mask = cv2.imread(mask_path,0)"
   ]
  },
  {
   "cell_type": "code",
   "execution_count": null,
   "metadata": {},
   "outputs": [],
   "source": [
    "new_points = centerpoint(points_path,mask_path)\n",
    "crops = cropping(new_points,mask)\n",
    "for crop in crops:\n",
    "        Gau = cv2.GaussianBlur(crop, (0,0),1)\n",
    "        result = drawROI(Gau)\n",
    "        plt.imshow(result,'gray')\n",
    "        plt.show()"
   ]
  },
  {
   "cell_type": "code",
   "execution_count": null,
   "metadata": {},
   "outputs": [],
   "source": []
  }
 ],
 "metadata": {
  "kernelspec": {
   "display_name": "Python 3.8.5 64-bit ('base': conda)",
   "name": "python385jvsc74a57bd0dca0ade3e726a953b501b15e8e990130d2b7799f14cfd9f4271676035ebe5511"
  },
  "language_info": {
   "name": "python",
   "version": ""
  }
 },
 "nbformat": 4,
 "nbformat_minor": 2
}
